{
 "cells": [
  {
   "cell_type": "code",
   "execution_count": 1,
   "metadata": {},
   "outputs": [
    {
     "name": "stderr",
     "output_type": "stream",
     "text": [
      "/home/benhc/anaconda2/lib/python2.7/site-packages/nltk/twitter/__init__.py:20: UserWarning: The twython library has not been installed. Some functionality from the twitter package will not be available.\n",
      "  warnings.warn(\"The twython library has not been installed. \"\n"
     ]
    }
   ],
   "source": [
    "import math\n",
    "import pandas as pd\n",
    "import numpy as np\n",
    "import nltk\n",
    "import matplotlib.pyplot as plt\n",
    "import praw\n",
    "from nltk.sentiment.vader import SentimentIntensityAnalyzer as SIA\n",
    "import label_data\n",
    "from pprint import pprint\n",
    "import os\n",
    "import enchant\n",
    "import string\n",
    "import seaborn as sns \n",
    "import label_data\n",
    "import pickle\n",
    "from sklearn.linear_model import LogisticRegression\n",
    "from sklearn.metrics import confusion_matrix"
   ]
  },
  {
   "cell_type": "code",
   "execution_count": 15,
   "metadata": {},
   "outputs": [],
   "source": [
    "# Reddit API, put your own API details here (easily avialable from Reddit website)\n",
    "reddit = praw.Reddit(client_id='YOUR_ID',\n",
    "                     client_secret='YOUR_SECRET',\n",
    "                     user_agent='YOUR_USERNAME')"
   ]
  },
  {
   "cell_type": "code",
   "execution_count": 16,
   "metadata": {},
   "outputs": [],
   "source": [
    "# Remove duplicates \n",
    "headlines=set()"
   ]
  },
  {
   "cell_type": "code",
   "execution_count": 17,
   "metadata": {},
   "outputs": [],
   "source": [
    "# Populate headlines\n",
    "for submission in reddit.subreddit('bitcoin').new(limit=None):\n",
    "    headlines.add(submission.title)"
   ]
  },
  {
   "cell_type": "code",
   "execution_count": 19,
   "metadata": {},
   "outputs": [],
   "source": [
    "# Remove non English headlines by checking if mostly English words in the headline. \n",
    "engdict = enchant.Dict('en_GB')\n",
    "removed_headlines = []\n",
    "for h in headlines.copy():\n",
    "    words = h.split(\" \")\n",
    "    total_length = len(words)\n",
    "    english_words = sum([(engdict.check(w.translate(string.punctuation)) | w.isdigit()) for w in words])\n",
    "    if (english_words/float(total_length)) <=0.3:\n",
    "        removed_headlines.append(h)\n",
    "        headlines.remove(h)    "
   ]
  },
  {
   "cell_type": "code",
   "execution_count": 20,
   "metadata": {},
   "outputs": [],
   "source": [
    "# Get the polarity scores for the headlines\n",
    "sia = SIA()\n",
    "results = []\n",
    "\n",
    "for line in headlines:\n",
    "    pol_score = sia.polarity_scores(line)\n",
    "    pol_score['headline'] = line\n",
    "    results.append(pol_score)"
   ]
  },
  {
   "cell_type": "code",
   "execution_count": 22,
   "metadata": {},
   "outputs": [
    {
     "data": {
      "text/html": [
       "<div>\n",
       "<style scoped>\n",
       "    .dataframe tbody tr th:only-of-type {\n",
       "        vertical-align: middle;\n",
       "    }\n",
       "\n",
       "    .dataframe tbody tr th {\n",
       "        vertical-align: top;\n",
       "    }\n",
       "\n",
       "    .dataframe thead th {\n",
       "        text-align: right;\n",
       "    }\n",
       "</style>\n",
       "<table border=\"1\" class=\"dataframe\">\n",
       "  <thead>\n",
       "    <tr style=\"text-align: right;\">\n",
       "      <th></th>\n",
       "      <th>compound</th>\n",
       "      <th>headline</th>\n",
       "    </tr>\n",
       "  </thead>\n",
       "  <tbody>\n",
       "    <tr>\n",
       "      <th>0</th>\n",
       "      <td>0.0000</td>\n",
       "      <td>SEC Issues Order of Suspension of Trading in B...</td>\n",
       "    </tr>\n",
       "    <tr>\n",
       "      <th>1</th>\n",
       "      <td>0.0000</td>\n",
       "      <td>Sons of Satoshi</td>\n",
       "    </tr>\n",
       "    <tr>\n",
       "      <th>2</th>\n",
       "      <td>0.0000</td>\n",
       "      <td>Daily Discussion, September 04, 2018</td>\n",
       "    </tr>\n",
       "    <tr>\n",
       "      <th>3</th>\n",
       "      <td>0.3818</td>\n",
       "      <td>Benefits of Bitcoin</td>\n",
       "    </tr>\n",
       "    <tr>\n",
       "      <th>4</th>\n",
       "      <td>0.4019</td>\n",
       "      <td>Bitcoin Adoption Is Getting A Massive Lightnin...</td>\n",
       "    </tr>\n",
       "  </tbody>\n",
       "</table>\n",
       "</div>"
      ],
      "text/plain": [
       "   compound                                           headline\n",
       "0    0.0000  SEC Issues Order of Suspension of Trading in B...\n",
       "1    0.0000                                    Sons of Satoshi\n",
       "2    0.0000               Daily Discussion, September 04, 2018\n",
       "3    0.3818                                Benefits of Bitcoin\n",
       "4    0.4019  Bitcoin Adoption Is Getting A Massive Lightnin..."
      ]
     },
     "execution_count": 22,
     "metadata": {},
     "output_type": "execute_result"
    }
   ],
   "source": [
    "# Put into dataframe and drop everything but headline and score\n",
    "df = pd.DataFrame.from_records(results)\n",
    "df.drop(columns = ['neg', 'pos', 'neu'], inplace = True)\n",
    "df.head()"
   ]
  },
  {
   "cell_type": "code",
   "execution_count": 39,
   "metadata": {},
   "outputs": [
    {
     "data": {
      "image/png": "[encoded data removed]",
      "text/plain": [
       "<Figure size 648x432 with 1 Axes>"
      ]
     },
     "metadata": {},
     "output_type": "display_data"
    }
   ],
   "source": [
    "# Show the distribution of labelling \n",
    "fig, ax = plt.subplots(figsize=(9, 6))\n",
    "df.hist(bins=np.linspace(-1, 1, 20), ax=ax)\n",
    "ax.set_title('')\n",
    "ax.set_xlabel('Compound score')\n",
    "ax.set_ylabel('Count');"
   ]
  },
  {
   "cell_type": "code",
   "execution_count": 101,
   "metadata": {},
   "outputs": [],
   "source": [
    "# Save the data to be labelled using label_data.py\n",
    "df[0:200].to_pickle('Data/headlines.p')\n",
    "# Now use `python label_data.py`"
   ]
  },
  {
   "cell_type": "markdown",
   "metadata": {},
   "source": [
    "If you don't want to use reddit API or label, here you can load a pre-labelled data set"
   ]
  },
  {
   "cell_type": "code",
   "execution_count": 2,
   "metadata": {},
   "outputs": [],
   "source": [
    "# Here's one I did earlier - load the labelled data \n",
    "df = pd.read_pickle('Data/labelled_headlines.p')\n",
    "data = df['headline']"
   ]
  },
  {
   "cell_type": "code",
   "execution_count": 3,
   "metadata": {
    "scrolled": false
   },
   "outputs": [
    {
     "name": "stdout",
     "output_type": "stream",
     "text": [
      "Positive headlines:\n",
      "\n",
      "[u'Investing In Crypto Is As Easy As 1, 2, 3',\n",
      " u'Suggestions for advertising my website now accepts Bitcoin?',\n",
      " u'30% of all the websites use Wordpress. And they can accept BTC in 5 min - Direct to wallet| Permissionless - Just like Bitcoin',\n",
      " u'Can matcha make me do better TA and rich then?',\n",
      " u'One of the Richest BTC Address Removed 11589 BTC']\n",
      "\n",
      "Negative headlines:\n",
      "\n",
      "[u'Hyping Crypto is a Waste of Time',\n",
      " u'Bitcoin \\u201cultimately failed as a currency\\u201d: Weiss Ratings',\n",
      " u'How do I move my Bitcoin from Binance to Infinito Wallet. I\\'m struggling with the \"memo\" part',\n",
      " u'SEC Decided To \\u2018Review\\u2019 Its Decision on Bitcoin ETF Rejections',\n",
      " u'2020 block halving could be massive for bitcoin price. Maybe 10,000,000 by 2023 trend chart predicts.']\n"
     ]
    }
   ],
   "source": [
    "# Let's use some value to classify to the labels.\n",
    "df['calc_label'] = 0\n",
    "df.loc[df['compound'] > 0.2, 'calc_label'] = 1\n",
    "df.loc[df['compound'] < -0.2, 'calc_label'] = -1\n",
    "\n",
    "print(\"Positive headlines:\\n\")\n",
    "pprint(list(df[df['calc_label'] == 1].headline)[:5], width=200)\n",
    "\n",
    "print(\"\\nNegative headlines:\\n\")\n",
    "pprint(list(df[df['calc_label'] == -1].headline)[:5], width=200)"
   ]
  },
  {
   "cell_type": "code",
   "execution_count": 5,
   "metadata": {},
   "outputs": [
    {
     "data": {
      "text/plain": [
       "label\n",
       "k    131\n",
       "n     35\n",
       "p     34\n",
       "Name: compound, dtype: int64"
      ]
     },
     "execution_count": 5,
     "metadata": {},
     "output_type": "execute_result"
    }
   ],
   "source": [
    "# Check how the number of labels match up - k = neutral\n",
    "df.groupby('label')['compound'].count()"
   ]
  },
  {
   "cell_type": "code",
   "execution_count": 4,
   "metadata": {},
   "outputs": [
    {
     "data": {
      "text/plain": [
       "calc_label\n",
       "-1     37\n",
       " 0    114\n",
       " 1     49\n",
       "Name: compound, dtype: int64"
      ]
     },
     "execution_count": 4,
     "metadata": {},
     "output_type": "execute_result"
    }
   ],
   "source": [
    "df.groupby('calc_label')['compound'].count()"
   ]
  },
  {
   "cell_type": "code",
   "execution_count": 23,
   "metadata": {},
   "outputs": [],
   "source": [
    "# We want a confusion matrix to understand whats happening better. \n",
    "def normalised_confusion_matrix(true, pred, ticklabels):\n",
    "    \"\"\" Helper function to plot normalised confusion matrix \"\"\"\n",
    "    cm = confusion_matrix(true, pred)\n",
    "    cm = cm/cm.astype(np.float).sum(axis=1).reshape(-1, 1)\n",
    "    ax = plt.subplot()\n",
    "    sns.heatmap(cm, annot=True, ax=ax)  \n",
    "    ax.set_xlabel('Predicted')\n",
    "    ax.set_ylabel('True')\n",
    "    ax.xaxis.set_ticklabels(ticklabels)\n",
    "    ax.yaxis.set_ticklabels(ticklabels)"
   ]
  },
  {
   "cell_type": "code",
   "execution_count": 24,
   "metadata": {},
   "outputs": [
    {
     "name": "stdout",
     "output_type": "stream",
     "text": [
      "[[18 13  4]\n",
      " [14 88 29]\n",
      " [ 5 13 16]]\n",
      "[ 35. 131.  34.]\n",
      "[[0.51428571 0.37142857 0.11428571]\n",
      " [0.10687023 0.67175573 0.22137405]\n",
      " [0.14705882 0.38235294 0.47058824]]\n"
     ]
    },
    {
     "data": {
      "image/png": "[encoded data removed]",
      "text/plain": [
       "<Figure size 432x288 with 2 Axes>"
      ]
     },
     "metadata": {},
     "output_type": "display_data"
    }
   ],
   "source": [
    "# Make the confusion matrix\n",
    "true = df['label'].map({'k':0, 'p':1, 'n':-1})\n",
    "pred = df['calc_label']\n",
    "ticklabels = ['Negative', 'Neutral', 'Positive']\n",
    "normalised_confusion_matrix(true, pred, ticklabels)"
   ]
  },
  {
   "cell_type": "code",
   "execution_count": 31,
   "metadata": {},
   "outputs": [
    {
     "name": "stderr",
     "output_type": "stream",
     "text": [
      "/home/benhc/anaconda2/lib/python2.7/site-packages/sklearn/utils/validation.py:578: DataConversionWarning: A column-vector y was passed when a 1d array was expected. Please change the shape of y to (n_samples, ), for example using ravel().\n",
      "  y = column_or_1d(y, warn=True)\n"
     ]
    },
    {
     "data": {
      "text/plain": [
       "0.6811594202898551"
      ]
     },
     "execution_count": 31,
     "metadata": {},
     "output_type": "execute_result"
    }
   ],
   "source": [
    "# Carry out the logistic regression on just the positive and negative results out of interest. \n",
    "\n",
    "df = pd.read_pickle('Data/labelled_headlines.p')\n",
    "df = df[df['label']!='k']\n",
    "df['label'] = df['label'].map({'n':0, 'p':1})\n",
    "\n",
    "LogReg = LogisticRegression()\n",
    "x = df['compound'].values.reshape(-1, 1)\n",
    "y = df['label'].values.reshape(-1, 1)\n",
    "\n",
    "LogReg.fit(x, y)\n",
    "LogReg.score(x, y)\n"
   ]
  },
  {
   "cell_type": "code",
   "execution_count": 32,
   "metadata": {},
   "outputs": [
    {
     "data": {
      "text/plain": [
       "[<matplotlib.lines.Line2D at 0x7f0d875debd0>]"
      ]
     },
     "execution_count": 32,
     "metadata": {},
     "output_type": "execute_result"
    },
    {
     "data": {
      "image/png": "[encoded data removed]",
      "text/plain": [
       "<Figure size 432x288 with 1 Axes>"
      ]
     },
     "metadata": {},
     "output_type": "display_data"
    }
   ],
   "source": [
    "# Take a look at what the regression looks like.\n",
    "\n",
    "plt.scatter(df['compound'], df['label'])\n",
    "\n",
    "x = np.linspace(-1, 1)\n",
    "\n",
    "def model(x):\n",
    "    return 1 / (1 + np.exp(-x))\n",
    "\n",
    "loss = model(x * LogReg.coef_ + LogReg.intercept_).ravel()\n",
    "plt.plot(x, loss, color='red', linewidth=1)"
   ]
  },
  {
   "cell_type": "code",
   "execution_count": 33,
   "metadata": {},
   "outputs": [
    {
     "data": {
      "image/png": "[encoded data removed]",
      "text/plain": [
       "<Figure size 432x288 with 2 Axes>"
      ]
     },
     "metadata": {},
     "output_type": "display_data"
    }
   ],
   "source": [
    "sns.heatmap(confusion_matrix(df['label'], LogReg.predict(df['compound'].values.reshape(-1, 1))), annot=True);"
   ]
  }
 ],
 "metadata": {
  "kernelspec": {
   "display_name": "Python 2",
   "language": "python",
   "name": "python2"
  },
  "language_info": {
   "codemirror_mode": {
    "name": "ipython",
    "version": 2
   },
   "file_extension": ".py",
   "mimetype": "text/x-python",
   "name": "python",
   "nbconvert_exporter": "python",
   "pygments_lexer": "ipython2",
   "version": "2.7.15"
  }
 },
 "nbformat": 4,
 "nbformat_minor": 2
}
