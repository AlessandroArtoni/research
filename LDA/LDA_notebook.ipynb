{
 "cells": [
  {
   "cell_type": "markdown",
   "metadata": {},
   "source": [
    "### Carry out some vanilla LDA with sklearn"
   ]
  },
  {
   "cell_type": "code",
   "execution_count": 9,
   "metadata": {},
   "outputs": [],
   "source": [
    "import pandas as pd\n",
    "import pickle\n",
    "from sklearn.decomposition import LatentDirichletAllocation\n",
    "from sklearn.feature_extraction.text import CountVectorizer\n",
    "from sklearn.model_selection import train_test_split\n",
    "import matplotlib.pyplot as plt\n",
    "\n",
    "# https://medium.com/mlreview/topic-modeling-with-scikit-learn-e80d33668730\n",
    "def display_topics(model, features, no_top_words):\n",
    "    for topic_idx, topic in enumerate(model.components_):\n",
    "        print \"Topic %d:\" % (topic_idx)\n",
    "        print \" \".join([features[i] for i in topic.argsort()[:-no_top_words - 1:-1]])\n",
    "\n",
    "# Load the news data. Run get_news to refresh\n",
    "df = pickle.load(open('newsdata.p', 'rb'))\n",
    "\n",
    "# Make the 'document' as a concatenation of headline and body\n",
    "df['document'] = df['title']+ ' ' + df['body']"
   ]
  },
  {
   "cell_type": "code",
   "execution_count": 10,
   "metadata": {},
   "outputs": [],
   "source": [
    "# Make the publishing date into datetime format\n",
    "def separate_date(timestamp):\n",
    "    return pd.to_datetime(timestamp, unit = 's').date()\n",
    "\n",
    "df['date'] = df['published_on'].apply(separate_date)"
   ]
  },
  {
   "cell_type": "code",
   "execution_count": 12,
   "metadata": {},
   "outputs": [],
   "source": [
    "vectoriser = CountVectorizer(stop_words = 'english', max_features=1000)\n",
    "doc = vectoriser.fit_transform(df['document'].values)\n",
    "features = vectoriser.get_feature_names()"
   ]
  },
  {
   "cell_type": "markdown",
   "metadata": {},
   "source": [
    "The number of topics, alpha and beta can all be varied in an attempt to make the topics more interpretable. "
   ]
  },
  {
   "cell_type": "code",
   "execution_count": 13,
   "metadata": {},
   "outputs": [
    {
     "name": "stderr",
     "output_type": "stream",
     "text": [
      "/home/benhc/anaconda2/lib/python2.7/site-packages/sklearn/decomposition/online_lda.py:536: DeprecationWarning: The default value for 'learning_method' will be changed from 'online' to 'batch' in the release 0.20. This warning was introduced in 0.18.\n",
      "  DeprecationWarning)\n"
     ]
    }
   ],
   "source": [
    "# Assign the parameters for LDA\n",
    "topics = 27   \n",
    "# Symmetrical Dirichlet prior for documents to topics. The higher it is, the more topics per document.\n",
    "alpha = 0.01\n",
    "# Symmetrical Dirichlet prior for topics to words. The higher it is, the greater the mixture of words per topic.\n",
    "beta = 0.2\n",
    "# Fit LDA to the news data \n",
    "LDA = LatentDirichletAllocation(n_components = topics, doc_topic_prior = alpha, topic_word_prior = beta)\n",
    "news_lda = LDA.fit(doc)"
   ]
  },
  {
   "cell_type": "code",
   "execution_count": 5,
   "metadata": {},
   "outputs": [
    {
     "name": "stdout",
     "output_type": "stream",
     "text": [
      "Topic 0:\n",
      "2018 government week futures coins leading biggest neo volume used\n",
      "Topic 1:\n",
      "blockchain technology based industry china smart world new global tech\n",
      "Topic 2:\n",
      "ethereum eth founder support capital trustnodes post appeared venture funding\n",
      "Topic 3:\n",
      "token decentralized platform tokens ecosystem projects based game io company\n",
      "Topic 4:\n",
      "ico platform project sale launches public appeared post pre announces\n",
      "Topic 5:\n",
      "price analysis usd technical ripple key newsbtc trend litecoin xrp\n",
      "Topic 6:\n",
      "8217 com post appeared bitcoinist morethe ceo media 8216 8211\n",
      "Topic 7:\n",
      "coin ico initial sec need day weeks offerings backed facebook\n",
      "Topic 8:\n",
      "ccn release press research service responsible product company post appeared\n",
      "Topic 9:\n",
      "network bitcoin news analysis post appeared charts amp guides development\n",
      "Topic 10:\n",
      "crypto digital cryptocurrencies currency investors says currencies markets post appeared\n",
      "Topic 11:\n",
      "users app internet solution hard fork going monero mobile new\n",
      "Topic 12:\n",
      "bitcoin cash post appeared price news 000 8230 btc bch\n",
      "Topic 13:\n",
      "investment funds uk related dash best article management etf investing\n",
      "Topic 14:\n",
      "crypto japan real startup companies company space finance partnership giant\n",
      "Topic 15:\n",
      "million 2017 coinbase online december pr november early october free\n",
      "Topic 16:\n",
      "10 000 fund 100 platforms peer user 50 hedge city\n",
      "Topic 17:\n",
      "make transactions making new developers team big using working case\n",
      "Topic 18:\n",
      "newsbtc continue 8230 post data reading appeared 8220 8221 buy\n",
      "Topic 19:\n",
      "trading cryptocurrency launch trade crypto traders platform investor june twitter\n",
      "Topic 20:\n",
      "mining cryptocurrency state power russia miners energy demand russian google\n",
      "Topic 21:\n",
      "exchange cryptocurrency new financial security firm securities assets stock commission\n",
      "Topic 22:\n",
      "wallet future banks open conference april content issues ai sponsored\n",
      "Topic 23:\n",
      "icos services plans offering largest tax india regulation customers news\n",
      "Topic 24:\n",
      "cryptocurrency market year 8217 billion time people report money lot\n",
      "Topic 25:\n",
      "cryptocurrency exchanges major payment payments month crypto virtual fiat international\n",
      "Topic 26:\n",
      "bank just south central korea binance cryptocurrency ban korean end\n"
     ]
    }
   ],
   "source": [
    "no_top_words = 10\n",
    "display_topics(news_lda, features, no_top_words)"
   ]
  },
  {
   "cell_type": "markdown",
   "metadata": {},
   "source": [
    "For many values of the above parameters there are certainly identifiable topics - this method works, just maybe not exactly for the use case considered. "
   ]
  }
 ],
 "metadata": {
  "kernelspec": {
   "display_name": "Python 2",
   "language": "python",
   "name": "python2"
  },
  "language_info": {
   "codemirror_mode": {
    "name": "ipython",
    "version": 2
   },
   "file_extension": ".py",
   "mimetype": "text/x-python",
   "name": "python",
   "nbconvert_exporter": "python",
   "pygments_lexer": "ipython2",
   "version": "2.7.15"
  }
 },
 "nbformat": 4,
 "nbformat_minor": 2
}
